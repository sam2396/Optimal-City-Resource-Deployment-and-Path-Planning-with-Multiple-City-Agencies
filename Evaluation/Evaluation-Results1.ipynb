{
 "cells": [
  {
   "cell_type": "code",
   "execution_count": 1,
   "id": "0ef2f4fa",
   "metadata": {},
   "outputs": [],
   "source": [
    "#  Evaluation_Python_Notebook. \n",
    "#  This file demonstrates the model and the results that are generated for the same. \n",
    "#  Before runnning the file, you will have to download all the dependencies - ortools is the most important here.\n",
    "#  To run this file, type Evaluation.py in cmd\n",
    "#  After running, first you will see the synthetic graph that is created. After closing that, the model will \n",
    "#  start running and will give you the output in the form of another figure, in which you will see the paths that\n",
    "#  connect all the nodes with their coordinates. After this, you will then see evaluation model beinf run.\n",
    "#  This evaluation is done with the help of Google's OR-Tools. At the end, you will see the paths that\n",
    "#  were evaluated using OR-Tools. You can see the paths created from our model as well.\n",
    "#  This code is running both our model and Google's model on the same synthetic graph.\n",
    "#  For graphs and figures that explain more about results, see Evaluation-Results.ipynb\n",
    "import matplotlib.pyplot as plt\n",
    "import networkx as nx\n",
    "import pandas as pd\n",
    "import numpy as np\n",
    "from pulp import *\n",
    "import seaborn as sn\n",
    "import haversine as hs\n",
    "from haversine import Unit"
   ]
  },
  {
   "cell_type": "code",
   "execution_count": 14,
   "id": "3fa5159d",
   "metadata": {},
   "outputs": [
    {
     "data": {
      "image/png": "[encoded data removed]",
      "text/plain": [
       "<Figure size 576x576 with 1 Axes>"
      ]
     },
     "metadata": {},
     "output_type": "display_data"
    }
   ],
   "source": [
    "#Generation_of_Synthetic_Graph\n",
    "#10: Number of nodes and 0.3: Density are defined first\n",
    "## G: This is where the definition of the graph is stored\n",
    "G = nx.random_geometric_graph(20, 0.3)\n",
    "## pos: Details and attributes of G are stored here.\n",
    "pos = nx.get_node_attributes(G, \"pos\")\n",
    "## dmin: Least amount needed to break the loop.\n",
    "dmin = 1\n",
    "## ncenter: Updating the node center after each calculation.\n",
    "ncenter = 0\n",
    "## x,y: They signify the coordinates of a particular node.\n",
    "for n in pos:\n",
    "    ## x,y: They signify the coordinates of a particular node.\n",
    "    x, y = pos[n]\n",
    "    ## d: This stores the calculation of the equation which uses coordinates.\n",
    "    d = (x - 0.5) ** 2 + (y - 0.5) ** 2\n",
    "    if d < dmin:\n",
    "        ncenter = n\n",
    "        dmin = d\n",
    "        \n",
    "## p: This is a dictionary which stores node information.        \n",
    "p = dict(nx.single_source_shortest_path_length(G, ncenter))\n",
    "## figsize: This controls the endproduct of the figure.\n",
    "plt.figure(figsize=(8, 8))\n",
    "## nodelist, aplha: This stores the list of nodes along with their coordinates.\n",
    "nx.draw_networkx_edges(G, pos, nodelist=[ncenter], alpha=0.4)\n",
    "nx.draw_networkx_nodes(\n",
    "    G,\n",
    "    pos,\n",
    "    nodelist=list(p.keys()),\n",
    "    ## nodesize: This defines the size of the node.\n",
    "    node_size=80,\n",
    "    ## nodecolour: This defines the colour of the node.\n",
    "    node_color=list(p.values()),\n",
    "    ## cmap: This stores the final figure plot information\n",
    "    cmap=plt.cm.Reds_r,\n",
    ")\n",
    "plt.xlim(-0.05, 1.05)\n",
    "plt.ylim(-0.05, 1.05)\n",
    "plt.axis(\"off\")\n",
    "plt.show()"
   ]
  },
  {
   "cell_type": "code",
   "execution_count": 15,
   "id": "subsequent-witness",
   "metadata": {},
   "outputs": [],
   "source": [
    "## ll: This signifies the x-coordinate of the particular node.\n",
    "ll = list()\n",
    "for i in pos:\n",
    "    ll.append(pos[i][0])\n",
    "## rr: This signifies the y-coordinate of the particular node.    \n",
    "rr = list()\n",
    "for i in pos:\n",
    "    rr.append(pos[i][1])\n",
    "## df: This declares an empty dataframe. "
   ]
  },
  {
   "cell_type": "code",
   "execution_count": 16,
   "id": "angry-leisure",
   "metadata": {},
   "outputs": [],
   "source": [
    "## df: This declares an empty dataframe.\n",
    "df = pd.DataFrame()\n",
    "df['Left'] = ll\n",
    "df['Right'] = rr\n",
    "df['coordinate'] = list(zip(df['Left'],df['Right']))\n",
    "df['ID'] = df.index"
   ]
  },
  {
   "cell_type": "code",
   "execution_count": 17,
   "id": "3ade584d",
   "metadata": {},
   "outputs": [],
   "source": [
    "##@dist_from\n",
    "#Calculates the distance between the provided node coordinates.\n",
    "# loc1: This stores coordinates of the first node.\n",
    "# loc2: This stores coordinates of the second node.\n",
    "def dist_from(loc1,loc2):\n",
    "    ## dist: This stores the calculated distance of two nodes.\n",
    "    dist=hs.haversine(loc1,loc2)\n",
    "    return round(dist,2)"
   ]
  },
  {
   "cell_type": "code",
   "execution_count": 18,
   "id": "784579e7",
   "metadata": {},
   "outputs": [],
   "source": [
    "# parse location one by one to dist_from\n",
    "for _,row in df.iterrows():\n",
    "    df[row.ID]=df['coordinate'].apply(lambda x: dist_from(row.coordinate,x))"
   ]
  },
  {
   "cell_type": "code",
   "execution_count": 19,
   "id": "81c4e1a8",
   "metadata": {},
   "outputs": [],
   "source": [
    "## distances_df: This stores the dataframe information of the sliced columns.    \n",
    "distances_df=df.iloc[:,4:4183]\n",
    "distances_df.insert(0, 'ID', df.ID)"
   ]
  },
  {
   "cell_type": "code",
   "execution_count": 20,
   "id": "84ca3720",
   "metadata": {},
   "outputs": [
    {
     "data": {
      "text/plain": [
       "{0: (0.9178502915441699, 0.905214730976211),\n",
       " 1: (0.08856241929214193, 0.7248100148781363),\n",
       " 2: (0.3008528854767476, 0.8612898063942787),\n",
       " 3: (0.029582214150372987, 0.7898527302818684),\n",
       " 4: (0.23179200234961184, 0.41997122286211486),\n",
       " 5: (0.8177122948029332, 0.6284939858547879),\n",
       " 6: (0.22927098356459208, 0.30036117664440876),\n",
       " 7: (0.782484431929554, 0.6407364196397588),\n",
       " 8: (0.7594175972474877, 0.19749579303119313),\n",
       " 9: (0.45394112812087317, 0.15462822326682968),\n",
       " 10: (0.6343580981204858, 0.2732866949825976),\n",
       " 11: (0.8725335819913281, 0.5693319921296618),\n",
       " 12: (0.3290518268480048, 0.6307986574555042),\n",
       " 13: (0.07604130726761493, 0.08242158454221593),\n",
       " 14: (0.9781697511680171, 0.3562177361646619),\n",
       " 15: (0.01711452526589985, 0.3423036991957582),\n",
       " 16: (0.5595090882109395, 0.5403891969866034),\n",
       " 17: (0.22848670351068, 0.4304848697145377),\n",
       " 18: (0.12192601062976294, 0.7896352768703758),\n",
       " 19: (0.031617002580366704, 0.5145961058004608)}"
      ]
     },
     "execution_count": 20,
     "metadata": {},
     "output_type": "execute_result"
    }
   ],
   "source": [
    "## locations: This stores the nodes along with their coordinates in the form of a dictionary.\n",
    "locations = dict( ( ID, (df.loc[ID, 'Left'], df.loc[ID, 'Right']) ) for ID in df.index)\n",
    "locations"
   ]
  },
  {
   "cell_type": "code",
   "execution_count": 21,
   "id": "refined-steal",
   "metadata": {
    "scrolled": true
   },
   "outputs": [
    {
     "data": {
      "text/html": [
       "<div>\n",
       "<style scoped>\n",
       "    .dataframe tbody tr th:only-of-type {\n",
       "        vertical-align: middle;\n",
       "    }\n",
       "\n",
       "    .dataframe tbody tr th {\n",
       "        vertical-align: top;\n",
       "    }\n",
       "\n",
       "    .dataframe thead th {\n",
       "        text-align: right;\n",
       "    }\n",
       "</style>\n",
       "<table border=\"1\" class=\"dataframe\">\n",
       "  <thead>\n",
       "    <tr style=\"text-align: right;\">\n",
       "      <th></th>\n",
       "      <th>ID</th>\n",
       "      <th>0</th>\n",
       "      <th>1</th>\n",
       "      <th>2</th>\n",
       "      <th>3</th>\n",
       "      <th>4</th>\n",
       "      <th>5</th>\n",
       "      <th>6</th>\n",
       "      <th>7</th>\n",
       "      <th>8</th>\n",
       "      <th>...</th>\n",
       "      <th>10</th>\n",
       "      <th>11</th>\n",
       "      <th>12</th>\n",
       "      <th>13</th>\n",
       "      <th>14</th>\n",
       "      <th>15</th>\n",
       "      <th>16</th>\n",
       "      <th>17</th>\n",
       "      <th>18</th>\n",
       "      <th>19</th>\n",
       "    </tr>\n",
       "  </thead>\n",
       "  <tbody>\n",
       "    <tr>\n",
       "      <th>0</th>\n",
       "      <td>0</td>\n",
       "      <td>0.00</td>\n",
       "      <td>94.37</td>\n",
       "      <td>68.78</td>\n",
       "      <td>99.60</td>\n",
       "      <td>93.44</td>\n",
       "      <td>32.72</td>\n",
       "      <td>101.91</td>\n",
       "      <td>33.03</td>\n",
       "      <td>80.63</td>\n",
       "      <td>...</td>\n",
       "      <td>77.01</td>\n",
       "      <td>37.68</td>\n",
       "      <td>72.23</td>\n",
       "      <td>130.89</td>\n",
       "      <td>61.40</td>\n",
       "      <td>118.11</td>\n",
       "      <td>56.86</td>\n",
       "      <td>93.07</td>\n",
       "      <td>89.43</td>\n",
       "      <td>107.69</td>\n",
       "    </tr>\n",
       "    <tr>\n",
       "      <th>1</th>\n",
       "      <td>1</td>\n",
       "      <td>94.37</td>\n",
       "      <td>0.00</td>\n",
       "      <td>28.06</td>\n",
       "      <td>9.76</td>\n",
       "      <td>37.45</td>\n",
       "      <td>81.78</td>\n",
       "      <td>49.72</td>\n",
       "      <td>77.72</td>\n",
       "      <td>94.88</td>\n",
       "      <td>...</td>\n",
       "      <td>78.76</td>\n",
       "      <td>88.87</td>\n",
       "      <td>28.71</td>\n",
       "      <td>71.44</td>\n",
       "      <td>107.07</td>\n",
       "      <td>43.27</td>\n",
       "      <td>56.24</td>\n",
       "      <td>36.24</td>\n",
       "      <td>8.11</td>\n",
       "      <td>24.22</td>\n",
       "    </tr>\n",
       "    <tr>\n",
       "      <th>2</th>\n",
       "      <td>2</td>\n",
       "      <td>68.78</td>\n",
       "      <td>28.06</td>\n",
       "      <td>0.00</td>\n",
       "      <td>31.19</td>\n",
       "      <td>49.67</td>\n",
       "      <td>63.03</td>\n",
       "      <td>62.88</td>\n",
       "      <td>58.90</td>\n",
       "      <td>89.71</td>\n",
       "      <td>...</td>\n",
       "      <td>75.17</td>\n",
       "      <td>71.38</td>\n",
       "      <td>25.82</td>\n",
       "      <td>90.14</td>\n",
       "      <td>93.95</td>\n",
       "      <td>65.77</td>\n",
       "      <td>45.83</td>\n",
       "      <td>48.57</td>\n",
       "      <td>21.43</td>\n",
       "      <td>48.81</td>\n",
       "    </tr>\n",
       "    <tr>\n",
       "      <th>3</th>\n",
       "      <td>3</td>\n",
       "      <td>99.60</td>\n",
       "      <td>9.76</td>\n",
       "      <td>31.19</td>\n",
       "      <td>0.00</td>\n",
       "      <td>46.87</td>\n",
       "      <td>89.45</td>\n",
       "      <td>58.78</td>\n",
       "      <td>85.35</td>\n",
       "      <td>104.52</td>\n",
       "      <td>...</td>\n",
       "      <td>88.44</td>\n",
       "      <td>96.89</td>\n",
       "      <td>37.70</td>\n",
       "      <td>78.83</td>\n",
       "      <td>115.98</td>\n",
       "      <td>49.78</td>\n",
       "      <td>65.13</td>\n",
       "      <td>45.67</td>\n",
       "      <td>10.27</td>\n",
       "      <td>30.61</td>\n",
       "    </tr>\n",
       "    <tr>\n",
       "      <th>4</th>\n",
       "      <td>4</td>\n",
       "      <td>93.44</td>\n",
       "      <td>37.45</td>\n",
       "      <td>49.67</td>\n",
       "      <td>46.87</td>\n",
       "      <td>0.00</td>\n",
       "      <td>69.15</td>\n",
       "      <td>13.30</td>\n",
       "      <td>65.97</td>\n",
       "      <td>63.67</td>\n",
       "      <td>...</td>\n",
       "      <td>47.64</td>\n",
       "      <td>73.16</td>\n",
       "      <td>25.82</td>\n",
       "      <td>41.34</td>\n",
       "      <td>83.30</td>\n",
       "      <td>25.39</td>\n",
       "      <td>38.82</td>\n",
       "      <td>1.23</td>\n",
       "      <td>42.88</td>\n",
       "      <td>24.62</td>\n",
       "    </tr>\n",
       "    <tr>\n",
       "      <th>5</th>\n",
       "      <td>5</td>\n",
       "      <td>32.72</td>\n",
       "      <td>81.78</td>\n",
       "      <td>63.03</td>\n",
       "      <td>89.45</td>\n",
       "      <td>69.15</td>\n",
       "      <td>0.00</td>\n",
       "      <td>74.92</td>\n",
       "      <td>4.15</td>\n",
       "      <td>48.36</td>\n",
       "      <td>...</td>\n",
       "      <td>44.45</td>\n",
       "      <td>8.97</td>\n",
       "      <td>54.34</td>\n",
       "      <td>102.41</td>\n",
       "      <td>35.14</td>\n",
       "      <td>94.54</td>\n",
       "      <td>30.34</td>\n",
       "      <td>69.12</td>\n",
       "      <td>79.42</td>\n",
       "      <td>88.32</td>\n",
       "    </tr>\n",
       "    <tr>\n",
       "      <th>6</th>\n",
       "      <td>6</td>\n",
       "      <td>101.91</td>\n",
       "      <td>49.72</td>\n",
       "      <td>62.88</td>\n",
       "      <td>58.78</td>\n",
       "      <td>13.30</td>\n",
       "      <td>74.92</td>\n",
       "      <td>0.00</td>\n",
       "      <td>72.22</td>\n",
       "      <td>60.05</td>\n",
       "      <td>...</td>\n",
       "      <td>45.14</td>\n",
       "      <td>77.53</td>\n",
       "      <td>38.38</td>\n",
       "      <td>29.62</td>\n",
       "      <td>83.51</td>\n",
       "      <td>24.05</td>\n",
       "      <td>45.40</td>\n",
       "      <td>14.47</td>\n",
       "      <td>55.70</td>\n",
       "      <td>32.41</td>\n",
       "    </tr>\n",
       "    <tr>\n",
       "      <th>7</th>\n",
       "      <td>7</td>\n",
       "      <td>33.03</td>\n",
       "      <td>77.72</td>\n",
       "      <td>58.90</td>\n",
       "      <td>85.35</td>\n",
       "      <td>65.97</td>\n",
       "      <td>4.15</td>\n",
       "      <td>72.22</td>\n",
       "      <td>0.00</td>\n",
       "      <td>49.35</td>\n",
       "      <td>...</td>\n",
       "      <td>44.05</td>\n",
       "      <td>12.78</td>\n",
       "      <td>50.43</td>\n",
       "      <td>100.12</td>\n",
       "      <td>38.39</td>\n",
       "      <td>91.35</td>\n",
       "      <td>27.19</td>\n",
       "      <td>65.89</td>\n",
       "      <td>75.29</td>\n",
       "      <td>84.66</td>\n",
       "    </tr>\n",
       "    <tr>\n",
       "      <th>8</th>\n",
       "      <td>8</td>\n",
       "      <td>80.63</td>\n",
       "      <td>94.88</td>\n",
       "      <td>89.71</td>\n",
       "      <td>104.52</td>\n",
       "      <td>63.67</td>\n",
       "      <td>48.36</td>\n",
       "      <td>60.05</td>\n",
       "      <td>49.35</td>\n",
       "      <td>0.00</td>\n",
       "      <td>...</td>\n",
       "      <td>16.26</td>\n",
       "      <td>43.21</td>\n",
       "      <td>67.91</td>\n",
       "      <td>77.06</td>\n",
       "      <td>30.05</td>\n",
       "      <td>84.10</td>\n",
       "      <td>44.13</td>\n",
       "      <td>64.47</td>\n",
       "      <td>96.75</td>\n",
       "      <td>88.28</td>\n",
       "    </tr>\n",
       "    <tr>\n",
       "      <th>9</th>\n",
       "      <td>9</td>\n",
       "      <td>98.11</td>\n",
       "      <td>75.30</td>\n",
       "      <td>80.40</td>\n",
       "      <td>84.94</td>\n",
       "      <td>38.48</td>\n",
       "      <td>66.42</td>\n",
       "      <td>29.78</td>\n",
       "      <td>65.24</td>\n",
       "      <td>34.30</td>\n",
       "      <td>...</td>\n",
       "      <td>24.01</td>\n",
       "      <td>65.52</td>\n",
       "      <td>54.74</td>\n",
       "      <td>42.78</td>\n",
       "      <td>62.45</td>\n",
       "      <td>52.87</td>\n",
       "      <td>44.47</td>\n",
       "      <td>39.61</td>\n",
       "      <td>79.68</td>\n",
       "      <td>61.70</td>\n",
       "    </tr>\n",
       "    <tr>\n",
       "      <th>10</th>\n",
       "      <td>10</td>\n",
       "      <td>77.01</td>\n",
       "      <td>78.76</td>\n",
       "      <td>75.17</td>\n",
       "      <td>88.44</td>\n",
       "      <td>47.64</td>\n",
       "      <td>44.45</td>\n",
       "      <td>45.14</td>\n",
       "      <td>44.05</td>\n",
       "      <td>16.26</td>\n",
       "      <td>...</td>\n",
       "      <td>0.00</td>\n",
       "      <td>42.25</td>\n",
       "      <td>52.28</td>\n",
       "      <td>65.61</td>\n",
       "      <td>39.33</td>\n",
       "      <td>69.06</td>\n",
       "      <td>30.84</td>\n",
       "      <td>48.40</td>\n",
       "      <td>80.89</td>\n",
       "      <td>72.19</td>\n",
       "    </tr>\n",
       "    <tr>\n",
       "      <th>11</th>\n",
       "      <td>11</td>\n",
       "      <td>37.68</td>\n",
       "      <td>88.87</td>\n",
       "      <td>71.38</td>\n",
       "      <td>96.89</td>\n",
       "      <td>73.16</td>\n",
       "      <td>8.97</td>\n",
       "      <td>77.53</td>\n",
       "      <td>12.78</td>\n",
       "      <td>43.21</td>\n",
       "      <td>...</td>\n",
       "      <td>42.25</td>\n",
       "      <td>0.00</td>\n",
       "      <td>60.82</td>\n",
       "      <td>103.80</td>\n",
       "      <td>26.45</td>\n",
       "      <td>98.41</td>\n",
       "      <td>34.96</td>\n",
       "      <td>73.26</td>\n",
       "      <td>86.98</td>\n",
       "      <td>93.70</td>\n",
       "    </tr>\n",
       "    <tr>\n",
       "      <th>12</th>\n",
       "      <td>12</td>\n",
       "      <td>72.23</td>\n",
       "      <td>28.71</td>\n",
       "      <td>25.82</td>\n",
       "      <td>37.70</td>\n",
       "      <td>25.82</td>\n",
       "      <td>54.34</td>\n",
       "      <td>38.38</td>\n",
       "      <td>50.43</td>\n",
       "      <td>67.91</td>\n",
       "      <td>...</td>\n",
       "      <td>52.28</td>\n",
       "      <td>60.82</td>\n",
       "      <td>0.00</td>\n",
       "      <td>67.15</td>\n",
       "      <td>78.37</td>\n",
       "      <td>47.25</td>\n",
       "      <td>27.53</td>\n",
       "      <td>24.92</td>\n",
       "      <td>29.02</td>\n",
       "      <td>35.51</td>\n",
       "    </tr>\n",
       "    <tr>\n",
       "      <th>13</th>\n",
       "      <td>13</td>\n",
       "      <td>130.89</td>\n",
       "      <td>71.44</td>\n",
       "      <td>90.14</td>\n",
       "      <td>78.83</td>\n",
       "      <td>41.34</td>\n",
       "      <td>102.41</td>\n",
       "      <td>29.62</td>\n",
       "      <td>100.12</td>\n",
       "      <td>77.06</td>\n",
       "      <td>...</td>\n",
       "      <td>65.61</td>\n",
       "      <td>103.80</td>\n",
       "      <td>67.15</td>\n",
       "      <td>0.00</td>\n",
       "      <td>104.83</td>\n",
       "      <td>29.63</td>\n",
       "      <td>74.05</td>\n",
       "      <td>42.25</td>\n",
       "      <td>78.80</td>\n",
       "      <td>48.31</td>\n",
       "    </tr>\n",
       "    <tr>\n",
       "      <th>14</th>\n",
       "      <td>14</td>\n",
       "      <td>61.40</td>\n",
       "      <td>107.07</td>\n",
       "      <td>93.95</td>\n",
       "      <td>115.98</td>\n",
       "      <td>83.30</td>\n",
       "      <td>35.14</td>\n",
       "      <td>83.51</td>\n",
       "      <td>38.39</td>\n",
       "      <td>30.05</td>\n",
       "      <td>...</td>\n",
       "      <td>39.33</td>\n",
       "      <td>26.45</td>\n",
       "      <td>78.37</td>\n",
       "      <td>104.83</td>\n",
       "      <td>0.00</td>\n",
       "      <td>106.88</td>\n",
       "      <td>50.86</td>\n",
       "      <td>83.77</td>\n",
       "      <td>106.71</td>\n",
       "      <td>106.72</td>\n",
       "    </tr>\n",
       "    <tr>\n",
       "      <th>15</th>\n",
       "      <td>15</td>\n",
       "      <td>118.11</td>\n",
       "      <td>43.27</td>\n",
       "      <td>65.77</td>\n",
       "      <td>49.78</td>\n",
       "      <td>25.39</td>\n",
       "      <td>94.54</td>\n",
       "      <td>24.05</td>\n",
       "      <td>91.35</td>\n",
       "      <td>84.10</td>\n",
       "      <td>...</td>\n",
       "      <td>69.06</td>\n",
       "      <td>98.41</td>\n",
       "      <td>47.25</td>\n",
       "      <td>29.63</td>\n",
       "      <td>106.88</td>\n",
       "      <td>0.00</td>\n",
       "      <td>64.21</td>\n",
       "      <td>25.47</td>\n",
       "      <td>51.09</td>\n",
       "      <td>19.23</td>\n",
       "    </tr>\n",
       "    <tr>\n",
       "      <th>16</th>\n",
       "      <td>16</td>\n",
       "      <td>56.86</td>\n",
       "      <td>56.24</td>\n",
       "      <td>45.83</td>\n",
       "      <td>65.13</td>\n",
       "      <td>38.82</td>\n",
       "      <td>30.34</td>\n",
       "      <td>45.40</td>\n",
       "      <td>27.19</td>\n",
       "      <td>44.13</td>\n",
       "      <td>...</td>\n",
       "      <td>30.84</td>\n",
       "      <td>34.96</td>\n",
       "      <td>27.53</td>\n",
       "      <td>74.05</td>\n",
       "      <td>50.86</td>\n",
       "      <td>64.21</td>\n",
       "      <td>0.00</td>\n",
       "      <td>38.78</td>\n",
       "      <td>56.00</td>\n",
       "      <td>58.77</td>\n",
       "    </tr>\n",
       "    <tr>\n",
       "      <th>17</th>\n",
       "      <td>17</td>\n",
       "      <td>93.07</td>\n",
       "      <td>36.24</td>\n",
       "      <td>48.57</td>\n",
       "      <td>45.67</td>\n",
       "      <td>1.23</td>\n",
       "      <td>69.12</td>\n",
       "      <td>14.47</td>\n",
       "      <td>65.89</td>\n",
       "      <td>64.47</td>\n",
       "      <td>...</td>\n",
       "      <td>48.40</td>\n",
       "      <td>73.26</td>\n",
       "      <td>24.92</td>\n",
       "      <td>42.25</td>\n",
       "      <td>83.77</td>\n",
       "      <td>25.47</td>\n",
       "      <td>38.78</td>\n",
       "      <td>0.00</td>\n",
       "      <td>41.66</td>\n",
       "      <td>23.81</td>\n",
       "    </tr>\n",
       "    <tr>\n",
       "      <th>18</th>\n",
       "      <td>18</td>\n",
       "      <td>89.43</td>\n",
       "      <td>8.11</td>\n",
       "      <td>21.43</td>\n",
       "      <td>10.27</td>\n",
       "      <td>42.88</td>\n",
       "      <td>79.42</td>\n",
       "      <td>55.70</td>\n",
       "      <td>75.29</td>\n",
       "      <td>96.75</td>\n",
       "      <td>...</td>\n",
       "      <td>80.89</td>\n",
       "      <td>86.98</td>\n",
       "      <td>29.02</td>\n",
       "      <td>78.80</td>\n",
       "      <td>106.71</td>\n",
       "      <td>51.09</td>\n",
       "      <td>56.00</td>\n",
       "      <td>41.66</td>\n",
       "      <td>0.00</td>\n",
       "      <td>32.19</td>\n",
       "    </tr>\n",
       "    <tr>\n",
       "      <th>19</th>\n",
       "      <td>19</td>\n",
       "      <td>107.69</td>\n",
       "      <td>24.22</td>\n",
       "      <td>48.81</td>\n",
       "      <td>30.61</td>\n",
       "      <td>24.62</td>\n",
       "      <td>88.32</td>\n",
       "      <td>32.41</td>\n",
       "      <td>84.66</td>\n",
       "      <td>88.28</td>\n",
       "      <td>...</td>\n",
       "      <td>72.19</td>\n",
       "      <td>93.70</td>\n",
       "      <td>35.51</td>\n",
       "      <td>48.31</td>\n",
       "      <td>106.72</td>\n",
       "      <td>19.23</td>\n",
       "      <td>58.77</td>\n",
       "      <td>23.81</td>\n",
       "      <td>32.19</td>\n",
       "      <td>0.00</td>\n",
       "    </tr>\n",
       "  </tbody>\n",
       "</table>\n",
       "<p>20 rows × 21 columns</p>\n",
       "</div>"
      ],
      "text/plain": [
       "    ID       0       1      2       3      4       5       6       7       8  \\\n",
       "0    0    0.00   94.37  68.78   99.60  93.44   32.72  101.91   33.03   80.63   \n",
       "1    1   94.37    0.00  28.06    9.76  37.45   81.78   49.72   77.72   94.88   \n",
       "2    2   68.78   28.06   0.00   31.19  49.67   63.03   62.88   58.90   89.71   \n",
       "3    3   99.60    9.76  31.19    0.00  46.87   89.45   58.78   85.35  104.52   \n",
       "4    4   93.44   37.45  49.67   46.87   0.00   69.15   13.30   65.97   63.67   \n",
       "5    5   32.72   81.78  63.03   89.45  69.15    0.00   74.92    4.15   48.36   \n",
       "6    6  101.91   49.72  62.88   58.78  13.30   74.92    0.00   72.22   60.05   \n",
       "7    7   33.03   77.72  58.90   85.35  65.97    4.15   72.22    0.00   49.35   \n",
       "8    8   80.63   94.88  89.71  104.52  63.67   48.36   60.05   49.35    0.00   \n",
       "9    9   98.11   75.30  80.40   84.94  38.48   66.42   29.78   65.24   34.30   \n",
       "10  10   77.01   78.76  75.17   88.44  47.64   44.45   45.14   44.05   16.26   \n",
       "11  11   37.68   88.87  71.38   96.89  73.16    8.97   77.53   12.78   43.21   \n",
       "12  12   72.23   28.71  25.82   37.70  25.82   54.34   38.38   50.43   67.91   \n",
       "13  13  130.89   71.44  90.14   78.83  41.34  102.41   29.62  100.12   77.06   \n",
       "14  14   61.40  107.07  93.95  115.98  83.30   35.14   83.51   38.39   30.05   \n",
       "15  15  118.11   43.27  65.77   49.78  25.39   94.54   24.05   91.35   84.10   \n",
       "16  16   56.86   56.24  45.83   65.13  38.82   30.34   45.40   27.19   44.13   \n",
       "17  17   93.07   36.24  48.57   45.67   1.23   69.12   14.47   65.89   64.47   \n",
       "18  18   89.43    8.11  21.43   10.27  42.88   79.42   55.70   75.29   96.75   \n",
       "19  19  107.69   24.22  48.81   30.61  24.62   88.32   32.41   84.66   88.28   \n",
       "\n",
       "    ...     10      11     12      13      14      15     16     17      18  \\\n",
       "0   ...  77.01   37.68  72.23  130.89   61.40  118.11  56.86  93.07   89.43   \n",
       "1   ...  78.76   88.87  28.71   71.44  107.07   43.27  56.24  36.24    8.11   \n",
       "2   ...  75.17   71.38  25.82   90.14   93.95   65.77  45.83  48.57   21.43   \n",
       "3   ...  88.44   96.89  37.70   78.83  115.98   49.78  65.13  45.67   10.27   \n",
       "4   ...  47.64   73.16  25.82   41.34   83.30   25.39  38.82   1.23   42.88   \n",
       "5   ...  44.45    8.97  54.34  102.41   35.14   94.54  30.34  69.12   79.42   \n",
       "6   ...  45.14   77.53  38.38   29.62   83.51   24.05  45.40  14.47   55.70   \n",
       "7   ...  44.05   12.78  50.43  100.12   38.39   91.35  27.19  65.89   75.29   \n",
       "8   ...  16.26   43.21  67.91   77.06   30.05   84.10  44.13  64.47   96.75   \n",
       "9   ...  24.01   65.52  54.74   42.78   62.45   52.87  44.47  39.61   79.68   \n",
       "10  ...   0.00   42.25  52.28   65.61   39.33   69.06  30.84  48.40   80.89   \n",
       "11  ...  42.25    0.00  60.82  103.80   26.45   98.41  34.96  73.26   86.98   \n",
       "12  ...  52.28   60.82   0.00   67.15   78.37   47.25  27.53  24.92   29.02   \n",
       "13  ...  65.61  103.80  67.15    0.00  104.83   29.63  74.05  42.25   78.80   \n",
       "14  ...  39.33   26.45  78.37  104.83    0.00  106.88  50.86  83.77  106.71   \n",
       "15  ...  69.06   98.41  47.25   29.63  106.88    0.00  64.21  25.47   51.09   \n",
       "16  ...  30.84   34.96  27.53   74.05   50.86   64.21   0.00  38.78   56.00   \n",
       "17  ...  48.40   73.26  24.92   42.25   83.77   25.47  38.78   0.00   41.66   \n",
       "18  ...  80.89   86.98  29.02   78.80  106.71   51.09  56.00  41.66    0.00   \n",
       "19  ...  72.19   93.70  35.51   48.31  106.72   19.23  58.77  23.81   32.19   \n",
       "\n",
       "        19  \n",
       "0   107.69  \n",
       "1    24.22  \n",
       "2    48.81  \n",
       "3    30.61  \n",
       "4    24.62  \n",
       "5    88.32  \n",
       "6    32.41  \n",
       "7    84.66  \n",
       "8    88.28  \n",
       "9    61.70  \n",
       "10   72.19  \n",
       "11   93.70  \n",
       "12   35.51  \n",
       "13   48.31  \n",
       "14  106.72  \n",
       "15   19.23  \n",
       "16   58.77  \n",
       "17   23.81  \n",
       "18   32.19  \n",
       "19    0.00  \n",
       "\n",
       "[20 rows x 21 columns]"
      ]
     },
     "execution_count": 21,
     "metadata": {},
     "output_type": "execute_result"
    }
   ],
   "source": [
    "distances_df"
   ]
  },
  {
   "cell_type": "code",
   "execution_count": 22,
   "id": "0a778463",
   "metadata": {},
   "outputs": [
    {
     "data": {
      "image/png": "[encoded data removed]",
      "text/plain": [
       "<Figure size 432x288 with 1 Axes>"
      ]
     },
     "metadata": {
      "needs_background": "light"
     },
     "output_type": "display_data"
    }
   ],
   "source": [
    "## l: It iterates over every instance of the locations dictionary\n",
    "for l in locations:\n",
    "    # lo: This stores an instance of the locations dictionary\n",
    "    lo = locations[l]\n",
    "    plt.plot(lo[0],lo[1],'o')\n",
    "    plt.text(lo[0]+.01,lo[1],l,horizontalalignment='center',verticalalignment='center')    \n",
    "plt.gca().axis('off');"
   ]
  },
  {
   "cell_type": "code",
   "execution_count": 23,
   "id": "speaking-context",
   "metadata": {},
   "outputs": [],
   "source": [
    "## df1: This declares an empty dataframe.\n",
    "df1 = pd.DataFrame()\n",
    "df1 = df\n",
    "df1 = df1.drop(['Left'],axis=1)\n",
    "df1 = df1.drop(['Right'],axis=1)\n",
    "df1 = df1.drop(['coordinate'],axis=1)\n",
    "df1 = df1.drop(['ID'],axis=1)"
   ]
  },
  {
   "cell_type": "code",
   "execution_count": 24,
   "id": "million-moscow",
   "metadata": {},
   "outputs": [],
   "source": [
    "## distance: This stores values and date from df1.\n",
    "distance = df1"
   ]
  },
  {
   "cell_type": "code",
   "execution_count": 25,
   "id": "8ae09c0b",
   "metadata": {},
   "outputs": [],
   "source": [
    "## distances: This is a dictionary that stores distances from each node with all other nodes.\n",
    "distances = dict( ((l1,l2), distance.iloc[l1, l2] ) for l1 in locations for l2 in locations if l1!=l2)\n"
   ]
  },
  {
   "cell_type": "code",
   "execution_count": 26,
   "id": "37b9035e",
   "metadata": {},
   "outputs": [],
   "source": [
    "## V: This defines the total number of vehicles that will traverse the path.\n",
    "V = 5"
   ]
  },
  {
   "cell_type": "code",
   "execution_count": 27,
   "id": "8b4b7d1f",
   "metadata": {},
   "outputs": [],
   "source": [
    "## prob: This initializes the problem that will run using provided constraints.\n",
    "prob=LpProblem(\"vehicle\", LpMinimize)"
   ]
  },
  {
   "cell_type": "code",
   "execution_count": 28,
   "id": "5acdd1e9",
   "metadata": {},
   "outputs": [],
   "source": [
    "## indicator: This defines the variable dictionary consisting of distances and indicates if location i is connected to location j along route\n",
    "indicator = LpVariable.dicts('indicator',distances, 0,1,LpBinary)\n",
    "## eliminator: This defines the variable dictionary consisting of the node ID's and elimiate subtours\n",
    "eliminator = LpVariable.dicts('eliminator', df.ID, 0, len(df.ID)-1, LpInteger)"
   ]
  },
  {
   "cell_type": "code",
   "execution_count": null,
   "id": "61396278",
   "metadata": {},
   "outputs": [],
   "source": []
  },
  {
   "cell_type": "code",
   "execution_count": null,
   "id": "9e341db4",
   "metadata": {},
   "outputs": [],
   "source": []
  },
  {
   "cell_type": "code",
   "execution_count": 29,
   "id": "29fd1bb2",
   "metadata": {},
   "outputs": [],
   "source": [
    "## cost: This stores the result of distances calculations.\n",
    "cost = lpSum([indicator[(i,j)]*distances[(i,j)] for (i,j) in distances])\n",
    "prob+=cost"
   ]
  },
  {
   "cell_type": "code",
   "execution_count": 30,
   "id": "007a19ba",
   "metadata": {},
   "outputs": [],
   "source": [
    "#constraints\n",
    "for v in df.ID:\n",
    "    cap = 1 if v != 12 else V\n",
    "    #inward possible route\n",
    "    prob+= lpSum([ indicator[(i,v)] for i in df.ID if (i,v) in indicator]) ==cap\n",
    "    #outward possible route\n",
    "    prob+=lpSum([ indicator[(v,i)] for i in df.ID if (v,i) in indicator]) ==cap\n",
    "    \n",
    "#subtour elimination\n",
    "num=len(df.ID)/V\n",
    "for i in df.ID:\n",
    "    for j in df.ID:\n",
    "        if i != j and (i != 12 and j!= 12) and (i,j) in indicator:\n",
    "            prob += eliminator[i] - eliminator[j] <= (num)*(1-indicator[(i,j)]) - 1"
   ]
  },
  {
   "cell_type": "code",
   "execution_count": 31,
   "id": "bc3e7d56",
   "metadata": {},
   "outputs": [
    {
     "name": "stdout",
     "output_type": "stream",
     "text": [
      "Wall time: 1min 55s\n",
      "Optimal\n"
     ]
    }
   ],
   "source": [
    "%time prob.solve()\n",
    "print(LpStatus[prob.status])"
   ]
  },
  {
   "cell_type": "code",
   "execution_count": 32,
   "id": "02448166",
   "metadata": {},
   "outputs": [],
   "source": [
    "## feasibleedges: This stores values of edges after the calculations are done.\n",
    "feasible_edges = [ e for e in indicator if value(indicator[e]) != 0 ]\n",
    "##@get_next_loc\n",
    "# This provides with the next coordinates for the next node in the path.\n",
    "def get_next_loc(initial):\n",
    "    edges = [e for e in feasible_edges if e[0]==initial]\n",
    "    for e in edges:\n",
    "        feasible_edges.remove(e)\n",
    "    return edges"
   ]
  },
  {
   "cell_type": "code",
   "execution_count": 33,
   "id": "bbb8a8e9",
   "metadata": {},
   "outputs": [],
   "source": [
    "## routes: This stores information regarding paths.    \n",
    "routes = get_next_loc(12)\n",
    "routes = [ [e] for e in routes ]\n",
    "\n",
    "for r in routes:\n",
    "    while r[-1][1] !=12:\n",
    "        r.append(get_next_loc(r[-1][1])[-1])"
   ]
  },
  {
   "cell_type": "code",
   "execution_count": 34,
   "id": "da6d6158",
   "metadata": {},
   "outputs": [
    {
     "data": {
      "text/plain": [
       "[[(12, 0), (0, 5), (5, 7), (7, 16), (16, 12)],\n",
       " [(12, 2), (2, 18), (18, 3), (3, 1), (1, 12)],\n",
       " [(12, 6), (6, 4), (4, 17), (17, 12)],\n",
       " [(12, 9), (9, 13), (13, 15), (15, 19), (19, 12)],\n",
       " [(12, 11), (11, 14), (14, 8), (8, 10), (10, 12)]]"
      ]
     },
     "execution_count": 34,
     "metadata": {},
     "output_type": "execute_result"
    }
   ],
   "source": [
    "routes"
   ]
  },
  {
   "cell_type": "code",
   "execution_count": 35,
   "id": "amended-moore",
   "metadata": {},
   "outputs": [],
   "source": [
    "routes1 = routes"
   ]
  },
  {
   "cell_type": "code",
   "execution_count": 36,
   "id": "052ab7c9",
   "metadata": {},
   "outputs": [
    {
     "data": {
      "image/png": "[encoded data removed]",
      "text/plain": [
       "<Figure size 432x288 with 1 Axes>"
      ]
     },
     "metadata": {
      "needs_background": "light"
     },
     "output_type": "display_data"
    }
   ],
   "source": [
    "## coloured_loc: This stores information according to individual paths.        \n",
    "coloured_loc = [np.random.rand(3) for i in range(len(routes))]\n",
    "for r,co in zip(routes,coloured_loc):\n",
    "    for a,b in r:\n",
    "        l1,l2 = locations[a], locations[b]\n",
    "        plt.plot([l1[0],l2[0]],[l1[1],l2[1]], color=co)"
   ]
  },
  {
   "cell_type": "code",
   "execution_count": 37,
   "id": "b7f0a58a",
   "metadata": {},
   "outputs": [
    {
     "data": {
      "image/png": "[encoded data removed]",
      "text/plain": [
       "<Figure size 432x288 with 1 Axes>"
      ]
     },
     "metadata": {
      "needs_background": "light"
     },
     "output_type": "display_data"
    }
   ],
   "source": [
    "## coloured_loc: This stores information according to individual paths.        \n",
    "coloured_loc = [np.random.rand(3) for i in range(len(routes))]\n",
    "for r,co in zip(routes,coloured_loc):\n",
    "    for a,b in r:\n",
    "        l1,l2 = locations[a], locations[b]\n",
    "        plt.plot([l1[0],l2[0]],[l1[1],l2[1]], color=co)\n",
    "for l in locations:\n",
    "    lo = locations[l]\n",
    "    plt.plot(lo[0],lo[1],'o')\n",
    "    plt.text(lo[0]+.01,lo[1],l,horizontalalignment='center',verticalalignment='center')\n",
    "    \n",
    "    \n",
    "plt.title('%d '%V + 'Vehicle routes' if V > 1 else 'Vehicle route')\n",
    "plt.xlabel('Left')\n",
    "plt.ylabel('Right')\n",
    "plt.show()"
   ]
  },
  {
   "cell_type": "code",
   "execution_count": 38,
   "id": "22b6d102",
   "metadata": {},
   "outputs": [
    {
     "data": {
      "text/plain": [
       "[[(12, 0), (0, 5), (5, 7), (7, 16), (16, 12)],\n",
       " [(12, 2), (2, 18), (18, 3), (3, 1), (1, 12)],\n",
       " [(12, 6), (6, 4), (4, 17), (17, 12)],\n",
       " [(12, 9), (9, 13), (13, 15), (15, 19), (19, 12)],\n",
       " [(12, 11), (11, 14), (14, 8), (8, 10), (10, 12)]]"
      ]
     },
     "execution_count": 38,
     "metadata": {},
     "output_type": "execute_result"
    }
   ],
   "source": [
    "routes"
   ]
  },
  {
   "cell_type": "code",
   "execution_count": null,
   "id": "anticipated-movie",
   "metadata": {},
   "outputs": [],
   "source": []
  },
  {
   "cell_type": "code",
   "execution_count": 39,
   "id": "balanced-slovenia",
   "metadata": {},
   "outputs": [],
   "source": [
    "from ortools.constraint_solver import routing_enums_pb2\n",
    "from ortools.constraint_solver import pywrapcp"
   ]
  },
  {
   "cell_type": "code",
   "execution_count": 40,
   "id": "cellular-local",
   "metadata": {},
   "outputs": [],
   "source": [
    "##@ package create_data_model\n",
    "# Stores the data for the problem.\n",
    "def create_data_model():\n",
    "    data = {}\n",
    "    data['distance_matrix'] = distance\n",
    "       \n",
    "    data['num_vehicles'] = 5\n",
    "    data['depot'] = 12\n",
    "    return data"
   ]
  },
  {
   "cell_type": "code",
   "execution_count": 41,
   "id": "interim-burst",
   "metadata": {},
   "outputs": [],
   "source": [
    "##@print_solution\n",
    "#Prints solution on console.\n",
    "def print_solution(data, manager, routing, solution):\n",
    "    max_route_distance = 0\n",
    "    for vehicle_id in range(data['num_vehicles']):\n",
    "        index = routing.Start(vehicle_id)\n",
    "        plan_output = 'Route for vehicle {}:\\n'.format(vehicle_id)\n",
    "        route_distance = 0\n",
    "        while not routing.IsEnd(index):\n",
    "            plan_output += ' {} -> '.format(manager.IndexToNode(index))\n",
    "            previous_index = index\n",
    "            index = solution.Value(routing.NextVar(index))\n",
    "            route_distance += routing.GetArcCostForVehicle(\n",
    "                previous_index, index, vehicle_id)\n",
    "        plan_output += '{}\\n'.format(manager.IndexToNode(index))\n",
    "       #plan_output += 'Distance of the route: {}m\\n'.format(route_distance)\n",
    "        print(plan_output)\n",
    "        max_route_distance = max(route_distance, max_route_distance)\n",
    "    #print('Maximum of the route distances: {}m'.format(max_route_distance))"
   ]
  },
  {
   "cell_type": "code",
   "execution_count": 42,
   "id": "decimal-hawaiian",
   "metadata": {},
   "outputs": [
    {
     "name": "stdout",
     "output_type": "stream",
     "text": [
      "Route for vehicle 0:\n",
      " 12 ->  2 ->  18 ->  3 ->  1 -> 12\n",
      "\n",
      "Route for vehicle 1:\n",
      " 12 ->  10 ->  8 ->  9 -> 12\n",
      "\n",
      "Route for vehicle 2:\n",
      " 12 ->  11 ->  14 ->  16 -> 12\n",
      "\n",
      "Route for vehicle 3:\n",
      " 12 ->  7 ->  5 ->  0 -> 12\n",
      "\n",
      "Route for vehicle 4:\n",
      " 12 ->  19 ->  15 ->  13 ->  6 ->  4 ->  17 -> 12\n",
      "\n"
     ]
    }
   ],
   "source": [
    "##@main\n",
    "#Solve the CVRP problem.\n",
    "def main():\n",
    "    # Instantiate the data problem.\n",
    "    data = create_data_model()\n",
    "\n",
    "    # Create the routing index manager.\n",
    "    manager = pywrapcp.RoutingIndexManager(len(data['distance_matrix']),\n",
    "                                           data['num_vehicles'], data['depot'])\n",
    "\n",
    "    # Create Routing Model.\n",
    "    routing = pywrapcp.RoutingModel(manager)\n",
    "\n",
    "\n",
    "    # Create and register a transit callback.\n",
    "    ##Returns the distance between the two nodes.\n",
    "    def distance_callback(from_index, to_index):\n",
    "        # Convert from routing variable Index to distance matrix NodeIndex.\n",
    "        from_node = manager.IndexToNode(from_index)\n",
    "        to_node = manager.IndexToNode(to_index)\n",
    "        return data['distance_matrix'][from_node][to_node]\n",
    "\n",
    "    transit_callback_index = routing.RegisterTransitCallback(distance_callback)\n",
    "\n",
    "    # Define cost of each arc.\n",
    "    routing.SetArcCostEvaluatorOfAllVehicles(transit_callback_index)\n",
    "\n",
    "    # Add Distance constraint.\n",
    "    dimension_name = 'Distance'\n",
    "    routing.AddDimension(\n",
    "        transit_callback_index,\n",
    "        0,  # no slack\n",
    "        3000,  # vehicle maximum travel distance\n",
    "        True,  # start cumul to zero\n",
    "        dimension_name)\n",
    "    distance_dimension = routing.GetDimensionOrDie(dimension_name)\n",
    "    distance_dimension.SetGlobalSpanCostCoefficient(100)\n",
    "\n",
    "    # Setting first solution heuristic.\n",
    "    search_parameters = pywrapcp.DefaultRoutingSearchParameters()\n",
    "    search_parameters.first_solution_strategy = (\n",
    "        routing_enums_pb2.FirstSolutionStrategy.PATH_CHEAPEST_ARC)\n",
    "\n",
    "    # Solve the problem.\n",
    "    solution = routing.SolveWithParameters(search_parameters)\n",
    "\n",
    "    # Print solution on console.\n",
    "    if solution:\n",
    "        print_solution(data, manager, routing, solution)\n",
    "if __name__ == '__main__':\n",
    "    main()"
   ]
  },
  {
   "cell_type": "code",
   "execution_count": 43,
   "id": "accompanied-colorado",
   "metadata": {},
   "outputs": [
    {
     "data": {
      "text/plain": [
       "[[(12, 0), (0, 5), (5, 7), (7, 16), (16, 12)],\n",
       " [(12, 2), (2, 18), (18, 3), (3, 1), (1, 12)],\n",
       " [(12, 6), (6, 4), (4, 17), (17, 12)],\n",
       " [(12, 9), (9, 13), (13, 15), (15, 19), (19, 12)],\n",
       " [(12, 11), (11, 14), (14, 8), (8, 10), (10, 12)]]"
      ]
     },
     "execution_count": 43,
     "metadata": {},
     "output_type": "execute_result"
    }
   ],
   "source": [
    "routes"
   ]
  },
  {
   "cell_type": "code",
   "execution_count": null,
   "id": "preceding-vietnamese",
   "metadata": {},
   "outputs": [],
   "source": []
  },
  {
   "cell_type": "code",
   "execution_count": 44,
   "id": "competitive-scholarship",
   "metadata": {},
   "outputs": [
    {
     "name": "stdout",
     "output_type": "stream",
     "text": [
      "Route for vehicle 0:\n",
      " 12 ->  2 ->  18 ->  3 ->  1 -> 12\n",
      "Distance of the route: 93m\n",
      "\n",
      "Route for vehicle 1:\n",
      " 12 ->  10 ->  8 ->  9 -> 12\n",
      "Distance of the route: 156m\n",
      "\n",
      "Route for vehicle 2:\n",
      " 12 ->  11 ->  14 ->  16 -> 12\n",
      "Distance of the route: 163m\n",
      "\n",
      "Route for vehicle 3:\n",
      " 12 ->  7 ->  5 ->  0 -> 12\n",
      "Distance of the route: 158m\n",
      "\n",
      "Route for vehicle 4:\n",
      " 12 ->  19 ->  15 ->  13 ->  6 ->  4 ->  17 -> 12\n",
      "Distance of the route: 150m\n",
      "\n",
      "Maximum of the route distances: 163m\n"
     ]
    }
   ],
   "source": [
    "def print_solution(data, manager, routing, solution):\n",
    "    \"\"\"Prints solution on console.\"\"\"\n",
    "    max_route_distance = 0\n",
    "    for vehicle_id in range(data['num_vehicles']):\n",
    "        index = routing.Start(vehicle_id)\n",
    "        plan_output = 'Route for vehicle {}:\\n'.format(vehicle_id)\n",
    "        route_distance = 0\n",
    "        while not routing.IsEnd(index):\n",
    "            plan_output += ' {} -> '.format(manager.IndexToNode(index))\n",
    "            previous_index = index\n",
    "            index = solution.Value(routing.NextVar(index))\n",
    "            route_distance += routing.GetArcCostForVehicle(\n",
    "                previous_index, index, vehicle_id)\n",
    "        plan_output += '{}\\n'.format(manager.IndexToNode(index))\n",
    "        plan_output += 'Distance of the route: {}m\\n'.format(route_distance)\n",
    "        print(plan_output)\n",
    "        max_route_distance = max(route_distance, max_route_distance)\n",
    "    print('Maximum of the route distances: {}m'.format(max_route_distance))\n",
    "def main():\n",
    "    \"\"\"Solve the CVRP problem.\"\"\"\n",
    "    # Instantiate the data problem.\n",
    "    data = create_data_model()\n",
    "\n",
    "    # Create the routing index manager.\n",
    "    manager = pywrapcp.RoutingIndexManager(len(data['distance_matrix']),\n",
    "                                           data['num_vehicles'], data['depot'])\n",
    "\n",
    "    # Create Routing Model.\n",
    "    routing = pywrapcp.RoutingModel(manager)\n",
    "\n",
    "\n",
    "    # Create and register a transit callback.\n",
    "    def distance_callback(from_index, to_index):\n",
    "        \"\"\"Returns the distance between the two nodes.\"\"\"\n",
    "        # Convert from routing variable Index to distance matrix NodeIndex.\n",
    "        from_node = manager.IndexToNode(from_index)\n",
    "        to_node = manager.IndexToNode(to_index)\n",
    "        return data['distance_matrix'][from_node][to_node]\n",
    "\n",
    "    transit_callback_index = routing.RegisterTransitCallback(distance_callback)\n",
    "\n",
    "    # Define cost of each arc.\n",
    "    routing.SetArcCostEvaluatorOfAllVehicles(transit_callback_index)\n",
    "\n",
    "    # Add Distance constraint.\n",
    "    dimension_name = 'Distance'\n",
    "    routing.AddDimension(\n",
    "        transit_callback_index,\n",
    "        0,  # no slack\n",
    "        3000,  # vehicle maximum travel distance\n",
    "        True,  # start cumul to zero\n",
    "        dimension_name)\n",
    "    distance_dimension = routing.GetDimensionOrDie(dimension_name)\n",
    "    distance_dimension.SetGlobalSpanCostCoefficient(100)\n",
    "\n",
    "    # Setting first solution heuristic.\n",
    "    search_parameters = pywrapcp.DefaultRoutingSearchParameters()\n",
    "    search_parameters.first_solution_strategy = (\n",
    "        routing_enums_pb2.FirstSolutionStrategy.PATH_CHEAPEST_ARC)\n",
    "\n",
    "    # Solve the problem.\n",
    "    solution = routing.SolveWithParameters(search_parameters)\n",
    "\n",
    "    # Print solution on console.\n",
    "    if solution:\n",
    "        print_solution(data, manager, routing, solution)\n",
    "if __name__ == '__main__':\n",
    "    main()    "
   ]
  },
  {
   "cell_type": "code",
   "execution_count": 45,
   "id": "center-accounting",
   "metadata": {},
   "outputs": [
    {
     "data": {
      "text/plain": [
       "[[(12, 0), (0, 5), (5, 7), (7, 16), (16, 12)],\n",
       " [(12, 2), (2, 18), (18, 3), (3, 1), (1, 12)],\n",
       " [(12, 6), (6, 4), (4, 17), (17, 12)],\n",
       " [(12, 9), (9, 13), (13, 15), (15, 19), (19, 12)],\n",
       " [(12, 11), (11, 14), (14, 8), (8, 10), (10, 12)]]"
      ]
     },
     "execution_count": 45,
     "metadata": {},
     "output_type": "execute_result"
    }
   ],
   "source": [
    "routes"
   ]
  },
  {
   "cell_type": "code",
   "execution_count": 46,
   "id": "biological-liberty",
   "metadata": {},
   "outputs": [
    {
     "data": {
      "text/plain": [
       "163.82000000000002"
      ]
     },
     "execution_count": 46,
     "metadata": {},
     "output_type": "execute_result"
    }
   ],
   "source": [
    "distance[12][0]+distance[0][5]+distance[5][7]+distance[7][16]+distance[16][12]"
   ]
  },
  {
   "cell_type": "code",
   "execution_count": 47,
   "id": "fantastic-landscape",
   "metadata": {},
   "outputs": [
    {
     "data": {
      "text/plain": [
       "95.99000000000001"
      ]
     },
     "execution_count": 47,
     "metadata": {},
     "output_type": "execute_result"
    }
   ],
   "source": [
    "distance[12][2]+distance[2][18]+distance[18][3]+distance[3][1]+distance[1][12]"
   ]
  },
  {
   "cell_type": "code",
   "execution_count": 48,
   "id": "ordered-adobe",
   "metadata": {},
   "outputs": [
    {
     "data": {
      "text/plain": [
       "77.83000000000001"
      ]
     },
     "execution_count": 48,
     "metadata": {},
     "output_type": "execute_result"
    }
   ],
   "source": [
    "distance[12][6]+distance[6][4]+distance[4][17]+distance[17][12]"
   ]
  },
  {
   "cell_type": "code",
   "execution_count": 49,
   "id": "blocked-potter",
   "metadata": {},
   "outputs": [
    {
     "data": {
      "text/plain": [
       "181.89"
      ]
     },
     "execution_count": 49,
     "metadata": {},
     "output_type": "execute_result"
    }
   ],
   "source": [
    "distance[12][9]+distance[9][13]+distance[13][15]+distance[15][19]+distance[19][12]"
   ]
  },
  {
   "cell_type": "code",
   "execution_count": 50,
   "id": "opening-premium",
   "metadata": {},
   "outputs": [
    {
     "data": {
      "text/plain": [
       "185.85999999999999"
      ]
     },
     "execution_count": 50,
     "metadata": {},
     "output_type": "execute_result"
    }
   ],
   "source": [
    "distance[12][11]+distance[11][14]+distance[14][8]+distance[8][10]+distance[10][12]"
   ]
  },
  {
   "cell_type": "code",
   "execution_count": 52,
   "id": "dirty-advertising",
   "metadata": {},
   "outputs": [
    {
     "data": {
      "text/plain": [
       "720"
      ]
     },
     "execution_count": 52,
     "metadata": {},
     "output_type": "execute_result"
    }
   ],
   "source": [
    "93+150+156+158+163"
   ]
  },
  {
   "cell_type": "code",
   "execution_count": 53,
   "id": "emerging-bargain",
   "metadata": {},
   "outputs": [
    {
     "data": {
      "text/plain": [
       "706"
      ]
     },
     "execution_count": 53,
     "metadata": {},
     "output_type": "execute_result"
    }
   ],
   "source": [
    "78+96+164+182+186"
   ]
  },
  {
   "cell_type": "code",
   "execution_count": 54,
   "id": "corresponding-gentleman",
   "metadata": {},
   "outputs": [],
   "source": [
    "result = pd.DataFrame()\n",
    "result['OP-Route'] = 78,96,164,182,186\n",
    "result['OR-Tools'] = 93,150,156,158,163"
   ]
  },
  {
   "cell_type": "code",
   "execution_count": 55,
   "id": "blank-oasis",
   "metadata": {},
   "outputs": [
    {
     "data": {
      "text/html": [
       "<div>\n",
       "<style scoped>\n",
       "    .dataframe tbody tr th:only-of-type {\n",
       "        vertical-align: middle;\n",
       "    }\n",
       "\n",
       "    .dataframe tbody tr th {\n",
       "        vertical-align: top;\n",
       "    }\n",
       "\n",
       "    .dataframe thead th {\n",
       "        text-align: right;\n",
       "    }\n",
       "</style>\n",
       "<table border=\"1\" class=\"dataframe\">\n",
       "  <thead>\n",
       "    <tr style=\"text-align: right;\">\n",
       "      <th></th>\n",
       "      <th>OP-Route</th>\n",
       "      <th>OR-Tools</th>\n",
       "    </tr>\n",
       "  </thead>\n",
       "  <tbody>\n",
       "    <tr>\n",
       "      <th>0</th>\n",
       "      <td>78</td>\n",
       "      <td>93</td>\n",
       "    </tr>\n",
       "    <tr>\n",
       "      <th>1</th>\n",
       "      <td>96</td>\n",
       "      <td>150</td>\n",
       "    </tr>\n",
       "    <tr>\n",
       "      <th>2</th>\n",
       "      <td>164</td>\n",
       "      <td>156</td>\n",
       "    </tr>\n",
       "    <tr>\n",
       "      <th>3</th>\n",
       "      <td>182</td>\n",
       "      <td>158</td>\n",
       "    </tr>\n",
       "    <tr>\n",
       "      <th>4</th>\n",
       "      <td>186</td>\n",
       "      <td>163</td>\n",
       "    </tr>\n",
       "  </tbody>\n",
       "</table>\n",
       "</div>"
      ],
      "text/plain": [
       "   OP-Route  OR-Tools\n",
       "0        78        93\n",
       "1        96       150\n",
       "2       164       156\n",
       "3       182       158\n",
       "4       186       163"
      ]
     },
     "execution_count": 55,
     "metadata": {},
     "output_type": "execute_result"
    }
   ],
   "source": [
    "result"
   ]
  },
  {
   "cell_type": "code",
   "execution_count": 56,
   "id": "recorded-bride",
   "metadata": {},
   "outputs": [
    {
     "data": {
      "image/png": "[encoded data removed]",
      "text/plain": [
       "<Figure size 432x288 with 1 Axes>"
      ]
     },
     "metadata": {
      "needs_background": "light"
     },
     "output_type": "display_data"
    }
   ],
   "source": [
    "plt.hist(result['OP-Route'], \n",
    "         alpha=0.5, # the transaparency parameter\n",
    "         label='OP-Route')\n",
    "  \n",
    "plt.hist(result['OR-Tools'],\n",
    "         alpha=0.5,\n",
    "         label='OR-Tools')\n",
    "  \n",
    "plt.legend(loc='upper right')\n",
    "plt.title('Overlapping with both alpha=0.5')\n",
    "plt.show()"
   ]
  },
  {
   "cell_type": "code",
   "execution_count": 57,
   "id": "twenty-hormone",
   "metadata": {},
   "outputs": [
    {
     "data": {
      "text/plain": [
       "<matplotlib.legend.Legend at 0x2b09337bfd0>"
      ]
     },
     "execution_count": 57,
     "metadata": {},
     "output_type": "execute_result"
    },
    {
     "data": {
      "image/png": "[encoded data removed]",
      "text/plain": [
       "<Figure size 432x288 with 1 Axes>"
      ]
     },
     "metadata": {
      "needs_background": "light"
     },
     "output_type": "display_data"
    }
   ],
   "source": [
    "plt.plot(result['OP-Route'], label='OP-Route')\n",
    "plt.plot(result['OR-Tools'], label='OR-Tools')\n",
    "plt.xlabel('Vehicle')\n",
    "plt.ylabel('Distance')\n",
    "plt.grid(True)\n",
    "plt.legend()"
   ]
  },
  {
   "cell_type": "code",
   "execution_count": 58,
   "id": "designing-warrant",
   "metadata": {},
   "outputs": [
    {
     "data": {
      "text/plain": [
       "<seaborn.axisgrid.PairGrid at 0x2b093370e50>"
      ]
     },
     "execution_count": 58,
     "metadata": {},
     "output_type": "execute_result"
    },
    {
     "data": {
      "image/png": "[encoded data removed]",
      "text/plain": [
       "<Figure size 360x360 with 6 Axes>"
      ]
     },
     "metadata": {
      "needs_background": "light"
     },
     "output_type": "display_data"
    }
   ],
   "source": [
    "import seaborn as sns\n",
    "sns.pairplot(result)"
   ]
  },
  {
   "cell_type": "code",
   "execution_count": 59,
   "id": "atmospheric-contest",
   "metadata": {},
   "outputs": [
    {
     "data": {
      "image/png": "[encoded data removed]",
      "text/plain": [
       "<Figure size 432x288 with 1 Axes>"
      ]
     },
     "metadata": {
      "needs_background": "light"
     },
     "output_type": "display_data"
    }
   ],
   "source": [
    "# the first call is as usual\n",
    "plt.bar('OP-Route',result['OP-Route'].sum(), color=\"#183386\")\n",
    "plt.bar('OR-Tools',result['OR-Tools'].sum(), color=\"#6c3376\")\n",
    "plt.xlabel('OP-Route vs OR-Tools')  \n",
    "plt.ylabel('Distance')\n",
    "\n",
    "plt.show()  "
   ]
  },
  {
   "cell_type": "code",
   "execution_count": 62,
   "id": "requested-opening",
   "metadata": {},
   "outputs": [],
   "source": [
    "c_result = pd.DataFrame()\n",
    "c_result['model'] = 'OP-Route','OP-Route','OP-Route','OP-Route','OP-Route','OR-Tools','OR-Tools','OR-Tools','OR-Tools','OR-Tools'\n",
    "c_result['Total Distance'] = 78,96,164,182,186,93,150,156,158,163"
   ]
  },
  {
   "cell_type": "code",
   "execution_count": 63,
   "id": "removed-messaging",
   "metadata": {},
   "outputs": [
    {
     "data": {
      "text/html": [
       "<div>\n",
       "<style scoped>\n",
       "    .dataframe tbody tr th:only-of-type {\n",
       "        vertical-align: middle;\n",
       "    }\n",
       "\n",
       "    .dataframe tbody tr th {\n",
       "        vertical-align: top;\n",
       "    }\n",
       "\n",
       "    .dataframe thead th {\n",
       "        text-align: right;\n",
       "    }\n",
       "</style>\n",
       "<table border=\"1\" class=\"dataframe\">\n",
       "  <thead>\n",
       "    <tr style=\"text-align: right;\">\n",
       "      <th></th>\n",
       "      <th>model</th>\n",
       "      <th>Total Distance</th>\n",
       "    </tr>\n",
       "  </thead>\n",
       "  <tbody>\n",
       "    <tr>\n",
       "      <th>0</th>\n",
       "      <td>OP-Route</td>\n",
       "      <td>78</td>\n",
       "    </tr>\n",
       "    <tr>\n",
       "      <th>1</th>\n",
       "      <td>OP-Route</td>\n",
       "      <td>96</td>\n",
       "    </tr>\n",
       "    <tr>\n",
       "      <th>2</th>\n",
       "      <td>OP-Route</td>\n",
       "      <td>164</td>\n",
       "    </tr>\n",
       "    <tr>\n",
       "      <th>3</th>\n",
       "      <td>OP-Route</td>\n",
       "      <td>182</td>\n",
       "    </tr>\n",
       "    <tr>\n",
       "      <th>4</th>\n",
       "      <td>OP-Route</td>\n",
       "      <td>186</td>\n",
       "    </tr>\n",
       "    <tr>\n",
       "      <th>5</th>\n",
       "      <td>OR-Tools</td>\n",
       "      <td>93</td>\n",
       "    </tr>\n",
       "    <tr>\n",
       "      <th>6</th>\n",
       "      <td>OR-Tools</td>\n",
       "      <td>150</td>\n",
       "    </tr>\n",
       "    <tr>\n",
       "      <th>7</th>\n",
       "      <td>OR-Tools</td>\n",
       "      <td>156</td>\n",
       "    </tr>\n",
       "    <tr>\n",
       "      <th>8</th>\n",
       "      <td>OR-Tools</td>\n",
       "      <td>158</td>\n",
       "    </tr>\n",
       "    <tr>\n",
       "      <th>9</th>\n",
       "      <td>OR-Tools</td>\n",
       "      <td>163</td>\n",
       "    </tr>\n",
       "  </tbody>\n",
       "</table>\n",
       "</div>"
      ],
      "text/plain": [
       "      model  Total Distance\n",
       "0  OP-Route              78\n",
       "1  OP-Route              96\n",
       "2  OP-Route             164\n",
       "3  OP-Route             182\n",
       "4  OP-Route             186\n",
       "5  OR-Tools              93\n",
       "6  OR-Tools             150\n",
       "7  OR-Tools             156\n",
       "8  OR-Tools             158\n",
       "9  OR-Tools             163"
      ]
     },
     "execution_count": 63,
     "metadata": {},
     "output_type": "execute_result"
    }
   ],
   "source": [
    "c_result"
   ]
  },
  {
   "cell_type": "code",
   "execution_count": 64,
   "id": "stuffed-ceiling",
   "metadata": {},
   "outputs": [
    {
     "data": {
      "text/plain": [
       "<AxesSubplot:xlabel='model', ylabel='Total Distance'>"
      ]
     },
     "execution_count": 64,
     "metadata": {},
     "output_type": "execute_result"
    },
    {
     "data": {
      "image/png": "[encoded data removed]",
      "text/plain": [
       "<Figure size 432x288 with 1 Axes>"
      ]
     },
     "metadata": {
      "needs_background": "light"
     },
     "output_type": "display_data"
    }
   ],
   "source": [
    "sns.violinplot(x=\"model\", y=\"Total Distance\", data=c_result,palette='Set1')"
   ]
  },
  {
   "cell_type": "code",
   "execution_count": 65,
   "id": "critical-secret",
   "metadata": {},
   "outputs": [
    {
     "data": {
      "text/plain": [
       "<AxesSubplot:xlabel='model', ylabel='Total Distance'>"
      ]
     },
     "execution_count": 65,
     "metadata": {},
     "output_type": "execute_result"
    },
    {
     "data": {
      "image/png": "[encoded data removed]",
      "text/plain": [
       "<Figure size 432x288 with 1 Axes>"
      ]
     },
     "metadata": {
      "needs_background": "light"
     },
     "output_type": "display_data"
    }
   ],
   "source": [
    "sns.stripplot(x=\"model\", y=\"Total Distance\", data=c_result)"
   ]
  },
  {
   "cell_type": "code",
   "execution_count": 67,
   "id": "economic-homework",
   "metadata": {},
   "outputs": [
    {
     "data": {
      "text/plain": [
       "<AxesSubplot:>"
      ]
     },
     "execution_count": 67,
     "metadata": {},
     "output_type": "execute_result"
    },
    {
     "data": {
      "image/png": "[encoded data removed]",
      "text/plain": [
       "<Figure size 432x288 with 1 Axes>"
      ]
     },
     "metadata": {
      "needs_background": "light"
     },
     "output_type": "display_data"
    }
   ],
   "source": [
    "sns.boxplot(data=c_result,palette='coolwarm',orient='h')"
   ]
  },
  {
   "cell_type": "code",
   "execution_count": 68,
   "id": "acknowledged-mileage",
   "metadata": {},
   "outputs": [
    {
     "data": {
      "text/plain": [
       "<AxesSubplot:xlabel='model', ylabel='Total Distance'>"
      ]
     },
     "execution_count": 68,
     "metadata": {},
     "output_type": "execute_result"
    },
    {
     "data": {
      "image/png": "[encoded data removed]",
      "text/plain": [
       "<Figure size 432x288 with 1 Axes>"
      ]
     },
     "metadata": {
      "needs_background": "light"
     },
     "output_type": "display_data"
    }
   ],
   "source": [
    "sns.violinplot(x=\"model\", y=\"Total Distance\", data=c_result,palette='coolwarm')\n",
    "sns.swarmplot(x=\"model\", y=\"Total Distance\", data=c_result,color='black',size=3)"
   ]
  },
  {
   "cell_type": "code",
   "execution_count": 69,
   "id": "driven-saying",
   "metadata": {},
   "outputs": [
    {
     "data": {
      "text/plain": [
       "<AxesSubplot:>"
      ]
     },
     "execution_count": 69,
     "metadata": {},
     "output_type": "execute_result"
    },
    {
     "data": {
      "image/png": "[encoded data removed]",
      "text/plain": [
       "<Figure size 432x288 with 1 Axes>"
      ]
     },
     "metadata": {
      "needs_background": "light"
     },
     "output_type": "display_data"
    }
   ],
   "source": [
    "result.plot.bar(stacked=True)"
   ]
  },
  {
   "cell_type": "code",
   "execution_count": 70,
   "id": "fundamental-filing",
   "metadata": {},
   "outputs": [
    {
     "data": {
      "text/plain": [
       "<AxesSubplot:ylabel='Density'>"
      ]
     },
     "execution_count": 70,
     "metadata": {},
     "output_type": "execute_result"
    },
    {
     "data": {
      "image/png": "[encoded data removed]",
      "text/plain": [
       "<Figure size 432x288 with 1 Axes>"
      ]
     },
     "metadata": {
      "needs_background": "light"
     },
     "output_type": "display_data"
    },
    {
     "data": {
      "image/png": "[encoded data removed]",
      "text/plain": [
       "<Figure size 432x288 with 1 Axes>"
      ]
     },
     "metadata": {
      "needs_background": "light"
     },
     "output_type": "display_data"
    }
   ],
   "source": [
    "result.plot.density()\n",
    "c_result.plot.density()"
   ]
  },
  {
   "cell_type": "code",
   "execution_count": null,
   "id": "located-tsunami",
   "metadata": {},
   "outputs": [],
   "source": []
  },
  {
   "cell_type": "code",
   "execution_count": 71,
   "id": "chemical-differential",
   "metadata": {},
   "outputs": [
    {
     "data": {
      "text/plain": [
       "<AxesSubplot:>"
      ]
     },
     "execution_count": 71,
     "metadata": {},
     "output_type": "execute_result"
    },
    {
     "data": {
      "image/png": "[encoded data removed]",
      "text/plain": [
       "<Figure size 432x288 with 1 Axes>"
      ]
     },
     "metadata": {
      "needs_background": "light"
     },
     "output_type": "display_data"
    },
    {
     "data": {
      "image/png": "[encoded data removed]",
      "text/plain": [
       "<Figure size 432x288 with 1 Axes>"
      ]
     },
     "metadata": {
      "needs_background": "light"
     },
     "output_type": "display_data"
    }
   ],
   "source": [
    "result.plot.area(alpha=0.4)\n",
    "c_result.plot.area(alpha=0.4)"
   ]
  },
  {
   "cell_type": "code",
   "execution_count": null,
   "id": "maritime-trick",
   "metadata": {},
   "outputs": [],
   "source": []
  },
  {
   "cell_type": "code",
   "execution_count": null,
   "id": "bottom-tuesday",
   "metadata": {},
   "outputs": [],
   "source": []
  }
 ],
 "metadata": {
  "kernelspec": {
   "display_name": "Python 3",
   "language": "python",
   "name": "python3"
  },
  "language_info": {
   "codemirror_mode": {
    "name": "ipython",
    "version": 3
   },
   "file_extension": ".py",
   "mimetype": "text/x-python",
   "name": "python",
   "nbconvert_exporter": "python",
   "pygments_lexer": "ipython3",
   "version": "3.8.8"
  }
 },
 "nbformat": 4,
 "nbformat_minor": 5
}
